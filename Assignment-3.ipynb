{
 "cells": [
  {
   "cell_type": "code",
   "execution_count": 20,
   "metadata": {},
   "outputs": [],
   "source": [
    "import numpy as np\n",
    "import pandas as pd\n",
    "import matplotlib.pyplot as plt\n",
    "from scipy import stats\n",
    "plt.style.use('seaborn')"
   ]
  },
  {
   "cell_type": "code",
   "execution_count": 21,
   "metadata": {},
   "outputs": [],
   "source": [
    "# read fashion mnist dataset\n",
    "df = pd.read_csv('./datasets/fashion-mnist_train.csv')\n",
    "fmnist_data = df.values[:40000,:]"
   ]
  },
  {
   "cell_type": "code",
   "execution_count": 22,
   "metadata": {},
   "outputs": [
    {
     "name": "stdout",
     "output_type": "stream",
     "text": [
      "Classes [0 1 2 3 4 5 6 7 8 9] \n",
      "Number of classes 10\n"
     ]
    }
   ],
   "source": [
    "# number of classes\n",
    "cls = np.unique(fmnist_data[:,0])\n",
    "print(\"Classes {} \\nNumber of classes {}\".format(cls,len(cls)))\n",
    "# number of features is 784"
   ]
  },
  {
   "cell_type": "code",
   "execution_count": 23,
   "metadata": {},
   "outputs": [],
   "source": [
    "# train test split\n",
    "ratio = 0.8\n",
    "m = fmnist_data.shape[0]\n",
    "train = fmnist_data[:int(m*ratio),:]\n",
    "test = fmnist_data[int(m*ratio):,:]\n",
    "\n",
    "# training data\n",
    "X_train = train[:,1:]\n",
    "y_train = train[:,0]\n",
    "\n",
    "# testing data\n",
    "X_test = test[:,1:]\n",
    "y_test = test[:,0]"
   ]
  },
  {
   "cell_type": "code",
   "execution_count": 24,
   "metadata": {},
   "outputs": [
    {
     "data": {
      "image/png": "[encoded data removed]",
      "text/plain": [
       "<Figure size 576x396 with 1 Axes>"
      ]
     },
     "metadata": {},
     "output_type": "display_data"
    },
    {
     "name": "stdout",
     "output_type": "stream",
     "text": [
      "7\n"
     ]
    }
   ],
   "source": [
    "# visualizing as picture\n",
    "def draw_image(sample):\n",
    "    img = sample.reshape((28,28))\n",
    "    plt.imshow(img,cmap='gray')\n",
    "    plt.show()\n",
    "draw_image(X_test[0])\n",
    "print(y_test[0])"
   ]
  },
  {
   "cell_type": "code",
   "execution_count": 25,
   "metadata": {},
   "outputs": [],
   "source": [
    "#normalizing data\n",
    "X_train = (((X_train-X_train.min())*255)/(X_train.max()-X_train.min()))\n",
    "X_test = (((X_test-X_test.min())*255)/(X_test.max()-X_test.min()))"
   ]
  },
  {
   "cell_type": "code",
   "execution_count": 26,
   "metadata": {},
   "outputs": [],
   "source": [
    "# Vectorized implemetation\n",
    "def hypothesis(X,theta): \n",
    "    return sigmoid(X@theta)\n",
    "\n",
    "def sigmoid(z):\n",
    "    return 1.0/(1.0+np.exp(-1.0*z))\n",
    "    \n",
    "def error(X_t, y_t, theta):\n",
    "    h = hypothesis(X_t,theta)\n",
    "    return (-0.5*np.sum((y_t)*np.log(h)+(1-y_t)*np.log(1-h),axis=0))/X_t.shape[0];\n",
    "\n",
    "def gradient(X_t, y_t, theta):\n",
    "    return (np.transpose(X_t)@(hypothesis(X_t,theta)-y_t))/X_t.shape[0]\n",
    "\n",
    "def gradient_descent(X_t, y_t, alpha, max_itr=500, threshold =0.0001):\n",
    "    grad = np.zeros((X_t.shape[1],1))\n",
    "    theta = np.zeros((X_t.shape[1],1))\n",
    "    err = []\n",
    "    acc = []\n",
    "    \n",
    "    for x in range(max_itr):\n",
    "        grad = gradient(X_t, y_t, theta)\n",
    "        theta = theta - alpha * grad\n",
    "        err.append(error(X_t, y_t, theta))\n",
    "        acc.append(accuracy(X_t, y_t, theta))\n",
    "        if len(err) > 1 and (abs(err[x]-err[x-1])) < threshold:\n",
    "            break\n",
    "    return (theta,err,acc)\n",
    "\n",
    "def gradient_batch_descent(X_t, y_t, alpha=0.01,max_itr=150, threshold=0.0001, batch_size=5):\n",
    "    grad = np.zeros((X_t.shape[1],1))\n",
    "    theta = np.zeros((X_t.shape[1],1))\n",
    "    err = []\n",
    "    t_err = []\n",
    "    t_acc = []\n",
    "    acc = []\n",
    "    m = X_t.shape[0]\n",
    "    for x in range(max_itr):\n",
    "        for i in range(int(m/batch_size)):\n",
    "            err = []\n",
    "            acc = []\n",
    "            grad = gradient(X_t[i*batch_size:(i+1)*batch_size,:], y_t[i*batch_size:(i+1)*batch_size],theta)\n",
    "            theta = theta - alpha*grad;\n",
    "            acc.append(accuracy(X_t, y_t, theta))\n",
    "            err.append(error(X_t[i*batch_size:(i+1)*batch_size,:], y_t[i*batch_size:(i+1)*batch_size],theta))\n",
    "        t_err.append(np.mean(err))\n",
    "        t_acc.append(np.mean(acc))\n",
    "        if len(t_err) > 1 and abs(np.mean(t_err[:])-np.mean(t_err[:-1])) <threshold:\n",
    "            break\n",
    "    return (theta,t_err,t_acc)\n",
    "\n",
    "def predict(X_t,theta):\n",
    "    return hypothesis(X_t,theta) > 0.5\n",
    "\n",
    "def accuracy(X_t,y_t,theta):\n",
    "    return np.sum(predict(X_t,theta)==y_t,axis=0)/(y_t.shape[0])\n",
    "\n",
    "# create all training sets based on labels\n",
    "def create_all_train(X_train,y_train):\n",
    "    list_all = [[],[],[],[],[],[],[],[],[],[]]\n",
    "    for i in range(y_train.shape[0]):\n",
    "        list_all[y_train[i]].append(X_train[i])\n",
    "    return np.array(list_all)\n",
    "\n",
    "def combine_two_train(x1,len1,x2,len2):\n",
    "    x = x1[0]\n",
    "    for i in range(1,len1):\n",
    "        x = np.vstack((x,x1[i]))\n",
    "    for i in range(0,len2):\n",
    "        x = np.vstack((x,x2[i]))\n",
    "    y = np.ones((len1,1))\n",
    "    y = np.vstack((y,np.zeros((len2,1))))\n",
    "    d = np.hstack((y,x))\n",
    "    np.random.seed(0)\n",
    "    np.random.shuffle(d)\n",
    "    return d[:,1:], d[:,0]\n",
    "    \n",
    "def build_classifers(X_train,y_train,label):\n",
    "    list_all = create_all_train(X_train,y_train)\n",
    "    theta_classifier = []\n",
    "    for i in label:\n",
    "        for j in label:\n",
    "            if j==i:\n",
    "                continue\n",
    "            x_t,y_t = combine_two_train(list_all[i],len(list_all[i]),list_all[j],len(list_all[j]))\n",
    "            theta,err,acc = gradient_batch_descent(x_t,y_t.reshape((-1,1)))\n",
    "            theta_classifier.append((theta,i,j))\n",
    "    return np.array(theta_classifier)\n",
    "    \n",
    "\n",
    "def predict_test(theta_classifier,x):\n",
    "        list_predict = []\n",
    "        for i in range(theta_classifier.shape[0]):\n",
    "            pred = predict(x,theta_classifier[i][0])\n",
    "            if pred == 1:\n",
    "                list_predict.append(theta_classifier[i][1])\n",
    "            else:\n",
    "                list_predict.append(theta_classifier[i][2])\n",
    "        list_predict = np.array(list_predict)\n",
    "        index = stats.mode(list_predict).mode[0]\n",
    "        return index"
   ]
  },
  {
   "cell_type": "code",
   "execution_count": 27,
   "metadata": {},
   "outputs": [
    {
     "name": "stderr",
     "output_type": "stream",
     "text": [
      "/Users/akroh/anaconda3/lib/python3.6/site-packages/ipykernel_launcher.py:10: RuntimeWarning: divide by zero encountered in log\n",
      "  # Remove the CWD from sys.path while we load stuff.\n",
      "/Users/akroh/anaconda3/lib/python3.6/site-packages/ipykernel_launcher.py:10: RuntimeWarning: invalid value encountered in multiply\n",
      "  # Remove the CWD from sys.path while we load stuff.\n"
     ]
    }
   ],
   "source": [
    "theta_classifier = build_classifers(X_train[:4000,:],y_train[:4000],cls)"
   ]
  },
  {
   "cell_type": "code",
   "execution_count": 28,
   "metadata": {},
   "outputs": [
    {
     "name": "stdout",
     "output_type": "stream",
     "text": [
      "3\n",
      "3\n"
     ]
    }
   ],
   "source": [
    "p = predict_test(theta_classifier,X_test[3])\n",
    "print(y_test[3])\n",
    "print(p)"
   ]
  },
  {
   "cell_type": "code",
   "execution_count": 29,
   "metadata": {},
   "outputs": [
    {
     "name": "stdout",
     "output_type": "stream",
     "text": [
      "0.807875\n"
     ]
    }
   ],
   "source": [
    "# checking accuracy\n",
    "def accuracy_multi_classifier(theta_classifier,X_test,y_test):\n",
    "    acc = 0\n",
    "    for i in range(X_test.shape[0]):\n",
    "        acc += (predict_test(theta_classifier,X_test[i])==y_test[i])\n",
    "    return acc/X_test.shape[0]\n",
    "\n",
    "accuracy = accuracy_multi_classifier(theta_classifier,X_test,y_test)\n",
    "print(accuracy)\n",
    "# for 100 examples\n",
    "# 66.6875 -- leave rem\n",
    "# 61.7 ish -- with rem\n",
    "# for 1000 examples\n",
    "# 78.675 -- leave rem **best**\n",
    "# 75.075 -- leave rem -- without randomize\n",
    "# 69.3 -- with rem \n",
    "# 66.6375 -- with rem -- without randomize\n",
    "# for 4000 examples\n",
    "# 80.7875 -- leave rem"
   ]
  },
  {
   "cell_type": "markdown",
   "metadata": {},
   "source": [
    "# SKLEARN IMPLEMENTATION"
   ]
  },
  {
   "cell_type": "code",
   "execution_count": 12,
   "metadata": {},
   "outputs": [],
   "source": [
    "import time\n",
    "from sklearn.multiclass import OneVsOneClassifier,OneVsRestClassifier\n",
    "from sklearn.linear_model import LogisticRegression"
   ]
  },
  {
   "cell_type": "code",
   "execution_count": 30,
   "metadata": {},
   "outputs": [
    {
     "name": "stdout",
     "output_type": "stream",
     "text": [
      "time taken for ovo  6.110020160675049\n",
      "Score ovo 0.807125\n"
     ]
    }
   ],
   "source": [
    "ovo = OneVsOneClassifier(estimator=LogisticRegression(random_state=5))\n",
    "start = time.time()\n",
    "ovo.fit(X_train[:4000,:],y_train[:4000])\n",
    "end = time.time()\n",
    "print(\"time taken for ovo \",end-start)\n",
    "print(\"Score ovo\",ovo.score(X_test,y_test))"
   ]
  },
  {
   "cell_type": "markdown",
   "metadata": {},
   "source": [
    "## One vs Rest Model"
   ]
  },
  {
   "cell_type": "code",
   "execution_count": 14,
   "metadata": {},
   "outputs": [
    {
     "name": "stdout",
     "output_type": "stream",
     "text": [
      "time taken for ovr  1.5276100635528564\n",
      "Score ovr 0.79\n"
     ]
    }
   ],
   "source": [
    "ovr = OneVsRestClassifier(estimator=LogisticRegression(random_state=5))\n",
    "start = time.time()\n",
    "ovr.fit(X_train[:1000,:],y_train[:1000])\n",
    "end = time.time()\n",
    "print(\"time taken for ovr \",end-start)\n",
    "print(\"Score ovr\",ovo.score(X_test,y_test))"
   ]
  },
  {
   "cell_type": "markdown",
   "metadata": {},
   "source": [
    "# KNN IMPLEMENTATION"
   ]
  },
  {
   "cell_type": "code",
   "execution_count": 31,
   "metadata": {},
   "outputs": [],
   "source": [
    "def euclidean_distance(x1,x2):\n",
    "    return np.sqrt(sum((x1-x2)**2))\n",
    "\n",
    "def KNN(X,y,query,k=5):\n",
    "    dist = []\n",
    "    m = X.shape[0]\n",
    "    for i in range(m):\n",
    "        dist.append([euclidean_distance(X[i],query),y[i]])\n",
    "    \n",
    "    sorted_dist = sorted(dist)\n",
    "    dist_k = sorted_dist[:k]\n",
    "    dist_k = np.array(dist_k)\n",
    "    dist_k_tuple = np.unique(dist_k[:,1],return_counts=True)\n",
    "    res = dist_k_tuple[0][dist_k_tuple[1].argmax()]\n",
    "    return res\n",
    "        \n",
    "def accuracy_KNN(X_t,y_t,X_tst,y_tst):\n",
    "    mt = X_tst.shape[0]\n",
    "    y_pred = []\n",
    "    for i in range(mt):\n",
    "        y_pred.append(KNN(X_t,y_t,X_tst[i]))\n",
    "    return sum(y_pred==y_tst)/mt"
   ]
  },
  {
   "cell_type": "code",
   "execution_count": 16,
   "metadata": {},
   "outputs": [
    {
     "name": "stdout",
     "output_type": "stream",
     "text": [
      "predicted value 7\n",
      "actual value 7\n",
      "accuracy 0.752750\n"
     ]
    }
   ],
   "source": [
    "k = KNN(X_train[:100,:],y_train[:100],X_test[0])\n",
    "print(\"predicted value %d\"%k)\n",
    "print(\"actual value %d\"%y_test[0])\n",
    "print(\"accuracy %f\"%accuracy_KNN(X_train[:1000,:],y_train[:1000],X_test,y_test))\n",
    "# classifiaton accuracy is 0.752750 same as sklearn"
   ]
  },
  {
   "cell_type": "markdown",
   "metadata": {},
   "source": [
    "## Sklearn Implementation of KNN"
   ]
  },
  {
   "cell_type": "code",
   "execution_count": 37,
   "metadata": {},
   "outputs": [],
   "source": [
    "from sklearn.neighbors import KNeighborsClassifier "
   ]
  },
  {
   "cell_type": "code",
   "execution_count": 40,
   "metadata": {},
   "outputs": [
    {
     "name": "stdout",
     "output_type": "stream",
     "text": [
      "actual value 7\n",
      "accuracy of sklearn KNN  0.75275\n"
     ]
    }
   ],
   "source": [
    "knn = KNeighborsClassifier(n_neighbors=5, p=2, metric='minkowski')\n",
    "knn.fit(X_train[:1000,:],y_train[:1000])\n",
    "print(\"actual value %d\"%y_test[0])\n",
    "print(\"accuracy of sklearn KNN \",knn.score(X_test,y_test))\n",
    "# classifiaton accuracy is 0.752750 same as my algo"
   ]
  },
  {
   "cell_type": "code",
   "execution_count": null,
   "metadata": {},
   "outputs": [],
   "source": []
  }
 ],
 "metadata": {
  "kernelspec": {
   "display_name": "Python 3",
   "language": "python",
   "name": "python3"
  },
  "language_info": {
   "codemirror_mode": {
    "name": "ipython",
    "version": 3
   },
   "file_extension": ".py",
   "mimetype": "text/x-python",
   "name": "python",
   "nbconvert_exporter": "python",
   "pygments_lexer": "ipython3",
   "version": "3.6.5"
  }
 },
 "nbformat": 4,
 "nbformat_minor": 2
}
