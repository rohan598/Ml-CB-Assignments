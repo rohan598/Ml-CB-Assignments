{
 "cells": [
  {
   "cell_type": "code",
   "execution_count": 117,
   "metadata": {},
   "outputs": [],
   "source": [
    "import  pandas as pd\n",
    "import numpy as np\n",
    "import  matplotlib.pyplot as plt\n",
    "from sklearn.metrics import mean_squared_error, r2_score\n",
    "from mpl_toolkits.mplot3d import Axes3D\n",
    "%matplotlib inline         "
   ]
  },
  {
   "cell_type": "code",
   "execution_count": 118,
   "metadata": {},
   "outputs": [],
   "source": [
    "# read data\n",
    "train = pd.read_csv(\"./datasets/Train-air-quality.csv\")\n",
    "test = pd.read_csv(\"./datasets/Test-air-quality.csv\")\n",
    "# 5 features, all normalized, 1600 entries"
   ]
  },
  {
   "cell_type": "code",
   "execution_count": 119,
   "metadata": {},
   "outputs": [],
   "source": [
    "# preparing training and test data\n",
    "X_train = train.values[:,:-1]\n",
    "X_train = np.hstack(((np.ones((X_train.shape[0],1)),X_train)))\n",
    "y_train = train.values[:,-1]\n",
    "X_test = test.values[:,:-1]\n",
    "X_test = np.hstack(((np.ones((X_test.shape[0],1)),X_test)))\n",
    "y_test = test.values[:,-1]"
   ]
  },
  {
   "cell_type": "markdown",
   "metadata": {},
   "source": [
    "### Gradient Descent For loop implementation"
   ]
  },
  {
   "cell_type": "code",
   "execution_count": 120,
   "metadata": {},
   "outputs": [],
   "source": [
    "# for loop implemetation\n",
    "def hypothesis(X_t,theta):\n",
    "    return X_t@theta\n",
    "\n",
    "def error(X_t, y_t, theta):\n",
    "    err = (0.5*np.sum(((hypothesis(X_t, theta)-y_t)**2),axis=0))/X_t.shape[0]\n",
    "    return err\n",
    "\n",
    "def gradient(X_t, y_t, theta):\n",
    "    grad = (np.transpose(X_t)@(hypothesis(X_t,theta)-y_t))/X_t.shape[0]\n",
    "    return grad\n",
    "\n",
    "def gradient_descent(X_t, y_t, alpha, max_itr, threshold):\n",
    "    grad = np.zeros((X_t.shape[1],1))\n",
    "    theta = np.zeros((X_t.shape[1],1))\n",
    "    err = []\n",
    "    y_t = y_t.reshape((-1,1))\n",
    "    for x in range(max_itr):\n",
    "        grad = gradient(X_t, y_t, theta)      \n",
    "        theta = theta - alpha * grad\n",
    "        err.append(error(X_t, y_t, theta))\n",
    "        if len(err) > 1 and (abs(err[x]-err[x-1])) < threshold:\n",
    "            break   \n",
    "    return (theta,err)\n",
    "\n",
    "def r_square(y,ss):\n",
    "    st = np.sum((y-np.mean(y))**2,axis=0)\n",
    "    return 1 - (ss/st)"
   ]
  },
  {
   "cell_type": "markdown",
   "metadata": {},
   "source": [
    "### Normal Gradient Descent"
   ]
  },
  {
   "cell_type": "code",
   "execution_count": 121,
   "metadata": {},
   "outputs": [
    {
     "name": "stdout",
     "output_type": "stream",
     "text": [
      "[[ 3.02010513]\n",
      " [25.41629543]\n",
      " [81.19017452]\n",
      " [ 5.68965292]\n",
      " [38.65511036]\n",
      " [ 1.83366009]]\n"
     ]
    },
    {
     "data": {
      "text/plain": [
       "[<matplotlib.lines.Line2D at 0x1a1ed46c50>]"
      ]
     },
     "execution_count": 121,
     "metadata": {},
     "output_type": "execute_result"
    },
    {
     "data": {
      "image/png": "[encoded data removed]",
      "text/plain": [
       "<Figure size 432x288 with 1 Axes>"
      ]
     },
     "metadata": {},
     "output_type": "display_data"
    }
   ],
   "source": [
    "# Training model\n",
    "(theta,err) = gradient_descent(X_train,y_train, alpha =0.01,max_itr=200, threshold=0.001)\n",
    "print(theta)\n",
    "\n",
    "## plot training error graph\n",
    "plt.plot(err)"
   ]
  },
  {
   "cell_type": "code",
   "execution_count": 122,
   "metadata": {},
   "outputs": [
    {
     "name": "stdout",
     "output_type": "stream",
     "text": [
      "r2 score: 0.949929\n"
     ]
    }
   ],
   "source": [
    "# predicting y tr value\n",
    "y_pred_train = X_train@theta\n",
    "\n",
    "\n",
    "# #r2 score\n",
    "print(\"r2 score: %4f\"%r2_score(y_train,y_pred_train))"
   ]
  },
  {
   "cell_type": "code",
   "execution_count": 123,
   "metadata": {},
   "outputs": [
    {
     "name": "stdout",
     "output_type": "stream",
     "text": [
      "r2 score: 0.952123\n"
     ]
    }
   ],
   "source": [
    "# predicting y test value\n",
    "y_pred_test = X_test@theta\n",
    "\n",
    "# # r2 score\n",
    "print(\"r2 score: %4f\"%r2_score(y_test,y_pred_test))"
   ]
  },
  {
   "cell_type": "markdown",
   "metadata": {},
   "source": [
    "### Stochastic Gradient Descent"
   ]
  },
  {
   "cell_type": "code",
   "execution_count": 124,
   "metadata": {},
   "outputs": [],
   "source": [
    "def gradient_batch_descent(X_t, y_t, alpha, max_itr, threshold=0.0001, batch_size=5):\n",
    "    grad = np.zeros((X_train.shape[1],1))\n",
    "    theta = np.zeros((X_train.shape[1],1))\n",
    "    err = []\n",
    "    t_err = []\n",
    "    m = X_train.shape[0]\n",
    "    y_t = y_t.reshape((-1,1))\n",
    "    for x in range(max_itr):\n",
    "        for i in range(int(m/batch_size)):\n",
    "            err = []\n",
    "            grad = gradient(X_t[i*batch_size:(i+1)*batch_size,:], y_t[i*batch_size:(i+1)*batch_size], theta)\n",
    "            theta = theta - alpha * grad\n",
    "            err.append(error(X_t[i*batch_size:(i+1)*batch_size,:], y_t[i*batch_size:(i+1)*batch_size], theta))\n",
    "        t_err.append(np.mean(err))\n",
    "        if len(t_err) > 1 and (abs(np.mean(t_err[:])-np.mean(t_err[:-1]))) < threshold:\n",
    "            break\n",
    "    return (theta,t_err)"
   ]
  },
  {
   "cell_type": "code",
   "execution_count": 125,
   "metadata": {},
   "outputs": [
    {
     "name": "stdout",
     "output_type": "stream",
     "text": [
      "(6, 1)\n"
     ]
    },
    {
     "data": {
      "text/plain": [
       "[<matplotlib.lines.Line2D at 0x1a1eca5ef0>]"
      ]
     },
     "execution_count": 125,
     "metadata": {},
     "output_type": "execute_result"
    },
    {
     "data": {
      "image/png": "[encoded data removed]",
      "text/plain": [
       "<Figure size 432x288 with 1 Axes>"
      ]
     },
     "metadata": {},
     "output_type": "display_data"
    }
   ],
   "source": [
    "# Training model\n",
    "(theta_g,err_g) = gradient_batch_descent(X_train,y_train, alpha =0.01,max_itr=200)\n",
    "print(theta_g.shape)\n",
    "\n",
    "## plot training error graph\n",
    "plt.plot(err_g)"
   ]
  },
  {
   "cell_type": "code",
   "execution_count": 126,
   "metadata": {},
   "outputs": [
    {
     "name": "stdout",
     "output_type": "stream",
     "text": [
      "r2 score: 0.965983\n"
     ]
    }
   ],
   "source": [
    "# predicting y test value\n",
    "y_pred_train_g = X_train@theta_g\n",
    "\n",
    "# # r2 score\n",
    "print(\"r2 score: %4f\"%r2_score(y_train,y_pred_train_g))"
   ]
  },
  {
   "cell_type": "code",
   "execution_count": 127,
   "metadata": {},
   "outputs": [
    {
     "name": "stdout",
     "output_type": "stream",
     "text": [
      "r2 score: 0.968912\n"
     ]
    }
   ],
   "source": [
    "# predicting y test value\n",
    "y_pred_test_g = X_test@theta_g\n",
    "\n",
    "# # r2 score\n",
    "print(\"r2 score: %4f\"%r2_score(y_test,y_pred_test_g))"
   ]
  },
  {
   "cell_type": "code",
   "execution_count": null,
   "metadata": {},
   "outputs": [],
   "source": []
  }
 ],
 "metadata": {
  "kernelspec": {
   "display_name": "Python 3",
   "language": "python",
   "name": "python3"
  },
  "language_info": {
   "codemirror_mode": {
    "name": "ipython",
    "version": 3
   },
   "file_extension": ".py",
   "mimetype": "text/x-python",
   "name": "python",
   "nbconvert_exporter": "python",
   "pygments_lexer": "ipython3",
   "version": "3.6.5"
  }
 },
 "nbformat": 4,
 "nbformat_minor": 2
}
